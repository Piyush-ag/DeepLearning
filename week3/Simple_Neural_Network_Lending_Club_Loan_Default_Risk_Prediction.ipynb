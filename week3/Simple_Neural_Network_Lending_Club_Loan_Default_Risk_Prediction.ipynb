{
  "cells": [
    {
      "cell_type": "markdown",
      "metadata": {
        "id": "O8DvtSQLJT4n"
      },
      "source": [
        "#Business Background\n",
        "LendingClub, based in San Francisco, California, is a pioneering peer-to-peer lending company in the US. It set a precedent by becoming the first of its kind to register its services as securities with the Securities and Exchange Commission (SEC) and introduced loan trading on a secondary market. Today, it stands as the globe's premier peer-to-peer lending platform.\n",
        "\n",
        "You are part of the LendingClub team, a company that offers diverse loan options to urban clients. Whenever a loan request is submitted, LendingClub must evaluate the applicant's profile to make an informed loan approval decision. The outcome hinges on two potential risks:\n",
        "\n",
        "* Denying a loan to an applicant who is capable of repayment means missed business opportunities for LendingClub.\n",
        "* Conversely, approving a loan to an applicant prone to defaulting can spell financial setbacks for the company.\n",
        "\n",
        "The provided dataset encompasses historical data on loan applicants, highlighting who defaulted and who didn't. The goal is to discern patterns that signal the likelihood of an applicant defaulting. Such insights can guide strategies like denying the loan, adjusting the loan amount, or setting higher interest rates for riskier borrowers.\n",
        "\n",
        "Curated from https://www.kaggle.com/code/faressayah/lending-club-loan-defaulters-prediction/notebook by Fares Sayah"
      ]
    },
    {
      "cell_type": "markdown",
      "metadata": {
        "id": "k6ZEeTP8XdeS"
      },
      "source": [
        "# Settings"
      ]
    },
    {
      "cell_type": "code",
      "execution_count": null,
      "metadata": {
        "id": "-lYrePDTl_Ms"
      },
      "outputs": [],
      "source": [
        "# ! pip install -q shap"
      ]
    },
    {
      "cell_type": "code",
      "execution_count": null,
      "metadata": {
        "id": "d4Ee0wPhXdeV"
      },
      "outputs": [],
      "source": [
        "import pandas as pd\n",
        "import numpy as np\n",
        "import seaborn as sns\n",
        "from scipy import stats\n",
        "import matplotlib.pyplot as plt\n",
        "\n",
        "from sklearn.model_selection import train_test_split, RandomizedSearchCV\n",
        "from sklearn.preprocessing import MinMaxScaler\n",
        "\n",
        "from sklearn.metrics import (\n",
        "    accuracy_score, confusion_matrix, classification_report,\n",
        "    roc_auc_score, roc_curve, auc,\n",
        ")\n",
        "from sklearn.metrics import ConfusionMatrixDisplay, RocCurveDisplay\n",
        "from sklearn.ensemble import RandomForestClassifier\n",
        "\n",
        "import tensorflow as tf\n",
        "from tensorflow.keras.models import Sequential, Model\n",
        "from tensorflow.keras.layers import Dense, Dropout, BatchNormalization\n",
        "from tensorflow.keras.optimizers import Adam\n",
        "from tensorflow.keras.metrics import AUC\n",
        "from tensorflow.keras.metrics import Recall\n",
        "\n",
        "pd.set_option('display.float', '{:.2f}'.format)\n",
        "pd.set_option('display.max_columns', None)\n",
        "pd.set_option('display.max_rows', 50)"
      ]
    },
    {
      "cell_type": "markdown",
      "metadata": {
        "id": "P3C3X8OrhBB3"
      },
      "source": [
        "# Load Data"
      ]
    },
    {
      "cell_type": "markdown",
      "metadata": {
        "id": "MHwCKU4nI2M3"
      },
      "source": [
        "Note: the data has been cleaned up and transformed. To learn more about the original data, check here\n",
        "https://www.kaggle.com/code/faressayah/lending-club-loan-defaulters-prediction/notebook"
      ]
    },
    {
      "cell_type": "code",
      "execution_count": null,
      "metadata": {
        "id": "iW6sdeuyXdeV"
      },
      "outputs": [],
      "source": [
        "data_url = 'https://raw.githubusercontent.com/JHU-CDHAI/Dataset/main/lending_club_loan_processed.csv'\n",
        "\n",
        "data = pd.read_csv(data_url)\n",
        "print(data.shape)\n",
        "data.head()"
      ]
    },
    {
      "cell_type": "code",
      "execution_count": null,
      "metadata": {
        "id": "950o0sInqPpr"
      },
      "outputs": [],
      "source": [
        "# 0: means Fully Paid\n",
        "# 1: means Charged Off\n",
        "data['loan_status'].value_counts()"
      ]
    },
    {
      "cell_type": "code",
      "execution_count": null,
      "metadata": {
        "id": "jofbq97Tid6r"
      },
      "outputs": [],
      "source": [
        "data.head()"
      ]
    },
    {
      "cell_type": "code",
      "execution_count": null,
      "metadata": {
        "id": "jcoDzI8vXdeW"
      },
      "outputs": [],
      "source": [
        "data.columns"
      ]
    },
    {
      "cell_type": "code",
      "execution_count": null,
      "metadata": {
        "id": "wTgsD82mdcBL"
      },
      "outputs": [],
      "source": [
        "data.shape"
      ]
    },
    {
      "cell_type": "code",
      "execution_count": null,
      "metadata": {
        "id": "_R69zzv_j0na"
      },
      "outputs": [],
      "source": [
        "# Comment this out if you want to use Zip Code information.\n",
        "new_cols = [i for i in data.columns if 'zip' not in i]\n",
        "data = data[new_cols]"
      ]
    },
    {
      "cell_type": "code",
      "execution_count": null,
      "metadata": {
        "id": "FiwhFzPkkMfD"
      },
      "outputs": [],
      "source": [
        "data.columns"
      ]
    },
    {
      "cell_type": "markdown",
      "metadata": {
        "id": "CrAR9m9FXdea"
      },
      "source": [
        "# Data preparation"
      ]
    },
    {
      "cell_type": "code",
      "execution_count": null,
      "metadata": {
        "id": "2TN2bxExXdea"
      },
      "outputs": [],
      "source": [
        "train, test = train_test_split(data, test_size=0.33, random_state=42)\n",
        "\n",
        "print(train.shape)\n",
        "print(test.shape)\n",
        "\n",
        "# (264796, 81)\n",
        "# (130423, 81)"
      ]
    },
    {
      "cell_type": "code",
      "execution_count": null,
      "metadata": {
        "id": "FBrAGl77Xdea"
      },
      "outputs": [],
      "source": [
        "# Removing outliers\n",
        "print(train.shape)\n",
        "train = train[train['annual_inc'] <= 250000]\n",
        "train = train[train['dti'] <= 50]\n",
        "train = train[train['open_acc'] <= 40]\n",
        "train = train[train['total_acc'] <= 80]\n",
        "train = train[train['revol_util'] <= 120]\n",
        "train = train[train['revol_bal'] <= 250000]\n",
        "print(train.shape)"
      ]
    },
    {
      "cell_type": "code",
      "execution_count": null,
      "metadata": {
        "id": "l6fsncJ5Xdea"
      },
      "outputs": [],
      "source": [
        "# Normalizing the data\n",
        "X_train, y_train = train.drop('loan_status', axis=1), train['loan_status']\n",
        "X_test,  y_test  = test.drop('loan_status', axis=1),  test['loan_status']"
      ]
    },
    {
      "cell_type": "code",
      "execution_count": null,
      "metadata": {
        "id": "O7uXF_z-fhWq"
      },
      "outputs": [],
      "source": [
        "# y_train"
      ]
    },
    {
      "cell_type": "code",
      "execution_count": null,
      "metadata": {
        "id": "9ZSqyZKVXdea"
      },
      "outputs": [],
      "source": [
        "scaler = MinMaxScaler()\n",
        "X_train = scaler.fit_transform(X_train)\n",
        "X_test = scaler.transform(X_test)"
      ]
    },
    {
      "cell_type": "code",
      "execution_count": null,
      "metadata": {
        "id": "EpDY44TPeELx"
      },
      "outputs": [],
      "source": [
        "X_train = np.array(X_train).astype(np.float32)\n",
        "X_test  = np.array(X_test).astype(np.float32)\n",
        "y_train = np.array(y_train).astype(np.float32)\n",
        "y_test  = np.array(y_test).astype(np.float32)"
      ]
    },
    {
      "cell_type": "markdown",
      "metadata": {
        "id": "m2AlfdCeXdea"
      },
      "source": [
        "# Simple Neural Network model"
      ]
    },
    {
      "cell_type": "markdown",
      "metadata": {
        "id": "W7SPVoDLeMUG"
      },
      "source": [
        "## Build Model"
      ]
    },
    {
      "cell_type": "code",
      "execution_count": null,
      "metadata": {
        "id": "-ySKDLv6Xdea"
      },
      "outputs": [],
      "source": [
        "# Build a simple neural network model\n",
        "model = Sequential()\n",
        "model.add(Dense(64, input_dim=X_train.shape[1], activation='relu'))\n",
        "model.add(Dense(32, activation='relu'))\n",
        "model.add(Dense(1, activation='sigmoid'))  # Binary classification, so use sigmoid activation"
      ]
    },
    {
      "cell_type": "markdown",
      "metadata": {
        "id": "0sHnUwHheOyQ"
      },
      "source": [
        "## Train Model"
      ]
    },
    {
      "cell_type": "code",
      "execution_count": null,
      "metadata": {
        "id": "daKH90IAeXdQ"
      },
      "outputs": [],
      "source": [
        "# Compile the model\n",
        "model.compile(loss='binary_crossentropy', optimizer='adam', metrics=[Recall(), 'accuracy'])"
      ]
    },
    {
      "cell_type": "code",
      "execution_count": null,
      "metadata": {
        "colab": {
          "background_save": true
        },
        "id": "ReDSn2sbXdea"
      },
      "outputs": [],
      "source": [
        "# Train the model\n",
        "history = model.fit(X_train, y_train, epochs=10, batch_size=128, validation_split=0.2)\n",
        "\n",
        "# Plot the training and validation loss\n",
        "plt.figure(figsize=(10, 6))\n",
        "plt.plot(history.history['loss'])\n",
        "plt.plot(history.history['val_loss'])\n",
        "plt.title('Model loss')\n",
        "plt.ylabel('Loss')\n",
        "plt.xlabel('Epoch')\n",
        "plt.legend(['Train', 'Validation'], loc='upper right')\n",
        "plt.show()"
      ]
    },
    {
      "cell_type": "markdown",
      "metadata": {
        "id": "4G5IsUsHeRfq"
      },
      "source": [
        "## Evaluate Model"
      ]
    },
    {
      "cell_type": "code",
      "execution_count": null,
      "metadata": {
        "id": "nN5G1dcqO6G5"
      },
      "outputs": [],
      "source": [
        "# assuming 'model' is your trained model\n",
        "test_loss, test_recall, test_accuracy = model.evaluate(X_test, y_test, verbose=2)\n",
        "print(f'Test accuracy: {test_accuracy}')\n",
        "print(f'Test recall: {test_recall}')"
      ]
    },
    {
      "cell_type": "code",
      "execution_count": null,
      "metadata": {
        "id": "sLX7eKmSO9o9"
      },
      "outputs": [],
      "source": [
        "#by default, the threshold is 0.5. Feel free to play othe threshold and see how the confusion matrix changes\n",
        "y_pred_probs = model.predict(X_test)"
      ]
    },
    {
      "cell_type": "code",
      "source": [
        "# Set the threshold\n",
        "\n",
        "threshold = 0.5\n",
        "y_pred = (y_pred_probs > threshold).astype(int)\n",
        "\n",
        "# Now you can use 'y_pred' for evaluation with the new threshold\n"
      ],
      "metadata": {
        "id": "h-PzRJCNYOUe"
      },
      "execution_count": null,
      "outputs": []
    },
    {
      "cell_type": "markdown",
      "metadata": {
        "id": "yL_BfFmrf_rW"
      },
      "source": [
        "## Confusion Matrix"
      ]
    },
    {
      "cell_type": "code",
      "execution_count": null,
      "metadata": {
        "id": "7Ha7te5_O_me"
      },
      "outputs": [],
      "source": [
        "from sklearn.metrics import confusion_matrix\n",
        "cm = confusion_matrix(y_test, y_pred)\n",
        "cm"
      ]
    },
    {
      "cell_type": "code",
      "execution_count": null,
      "metadata": {
        "id": "Y4UGrkW2PBm8"
      },
      "outputs": [],
      "source": [
        "from sklearn.metrics import precision_score, recall_score\n",
        "\n",
        "# Assuming y_pred and y_test are numpy arrays or lists containing binary labels (0 or 1)\n",
        "\n",
        "precision = precision_score(y_test, y_pred)\n",
        "recall = recall_score(y_test, y_pred)\n",
        "\n",
        "print(\"Precision:\", precision)\n",
        "print(\"Recall:\", recall)"
      ]
    },
    {
      "cell_type": "code",
      "execution_count": null,
      "metadata": {
        "id": "g3DryS6APH8T"
      },
      "outputs": [],
      "source": [
        "plt.figure(figsize=(10,7))\n",
        "sns.heatmap(cm, annot=True, fmt='d')\n",
        "plt.xlabel('Predicted')\n",
        "plt.ylabel('Truth')"
      ]
    },
    {
      "cell_type": "markdown",
      "metadata": {
        "id": "-7IH_8xrKiBT"
      },
      "source": [
        "Questions to think:\n",
        "\n",
        "1. How good is the model performance?\n",
        "2. Use Gemini AI to create the ROC curve. On the cure, point out where is the p=0.5 threshould.\n",
        "3. Can you think of ways to further improve the model performance?"
      ]
    },
    {
      "cell_type": "code",
      "execution_count": null,
      "metadata": {
        "id": "hnuH2q3-fmoi"
      },
      "outputs": [],
      "source": []
    }
  ],
  "metadata": {
    "colab": {
      "provenance": [],
      "gpuType": "T4"
    },
    "kernelspec": {
      "display_name": "Python 3",
      "name": "python3"
    },
    "language_info": {
      "codemirror_mode": {
        "name": "ipython",
        "version": 3
      },
      "file_extension": ".py",
      "mimetype": "text/x-python",
      "name": "python",
      "nbconvert_exporter": "python",
      "pygments_lexer": "ipython3",
      "version": "3.9.16"
    },
    "accelerator": "GPU"
  },
  "nbformat": 4,
  "nbformat_minor": 0
}